{
 "cells": [
  {
   "cell_type": "code",
   "execution_count": 7,
   "metadata": {},
   "outputs": [
    {
     "name": "stdout",
     "output_type": "stream",
     "text": [
      "(4-5j) \n",
      "\n",
      "(2-3j) \n",
      "\n",
      "(-1-7j) \n",
      "\n"
     ]
    }
   ],
   "source": [
    "\n",
    "z = 3 - 4j\n",
    "w = 1-1j\n",
    "print(z+w,\"\\n\") \n",
    "\n",
    "print(z-w, \"\\n\")\n",
    "\n",
    "print(z*w, \"\\n\")\n"
   ]
  },
  {
   "cell_type": "code",
   "execution_count": 4,
   "metadata": {},
   "outputs": [
    {
     "name": "stdout",
     "output_type": "stream",
     "text": [
      "Đại Học Mở TP.HCM\n"
     ]
    }
   ],
   "source": [
    "a = \"Đại Học Mở\"\n",
    "b = \"TP.HCM\"\n",
    "c = a + \" \"  + b\n",
    "print(c)"
   ]
  },
  {
   "cell_type": "code",
   "execution_count": 6,
   "metadata": {},
   "outputs": [
    {
     "name": "stdout",
     "output_type": "stream",
     "text": [
      "Đại Học Mở\n",
      "TP.HCM\n"
     ]
    }
   ],
   "source": [
    "a = \"Đại Học Mở\"\n",
    "b = \"TP.HCM\"\n",
    "c = a + \"\\n\"  + b\n",
    "print(c)"
   ]
  },
  {
   "cell_type": "code",
   "execution_count": 7,
   "metadata": {},
   "outputs": [
    {
     "data": {
      "text/plain": [
       "'abcabcabc'"
      ]
     },
     "execution_count": 7,
     "metadata": {},
     "output_type": "execute_result"
    }
   ],
   "source": [
    "\"abc\"*3"
   ]
  },
  {
   "cell_type": "code",
   "execution_count": 19,
   "metadata": {},
   "outputs": [
    {
     "name": "stdout",
     "output_type": "stream",
     "text": [
      "Mở\n",
      " M\n",
      "ởM cọH iạĐ\n",
      "ạ ọ \n"
     ]
    }
   ],
   "source": [
    "a = \"Đại Học Mở\"\n",
    "b = \"TP.HCM\"\n",
    "\n",
    "c = a[-2:]\n",
    "d = a[7:9]\n",
    "e = a[::-1]\n",
    "g = a[1:9:2]\n",
    "print(c)\n",
    "print(d)\n",
    "print(e)\n",
    "print(g)"
   ]
  },
  {
   "cell_type": "code",
   "execution_count": 28,
   "metadata": {},
   "outputs": [
    {
     "name": "stdout",
     "output_type": "stream",
     "text": [
      "NGUYEN HOANG THANH\n",
      "nguyen hoang thanh\n",
      "Nguyen hoang thanh\n",
      "nguyen hoang chanh\n",
      "['nguyen', 'hoang', 'chanh']\n",
      "4\n",
      "14\n"
     ]
    }
   ],
   "source": [
    "a = \"nguyen hoang thanh\"\n",
    "b = a.upper()\n",
    "c = b.lower()\n",
    "d = a.capitalize()\n",
    "e = a.replace(\"t\", \"c\")\n",
    "g = e.split()\n",
    "count_l=e.count(\"n\")\n",
    "index_l=e.index(\"ha\")\n",
    "print(b)\n",
    "print(c)\n",
    "print(d)\n",
    "print(e)\n",
    "print(g)\n",
    "print(count_l)\n",
    "print(index_l)"
   ]
  },
  {
   "cell_type": "code",
   "execution_count": 1,
   "metadata": {},
   "outputs": [
    {
     "name": "stdout",
     "output_type": "stream",
     "text": [
      "['sdf', 1, 't', -4, 'sdfđ', 13, 'c', -43]\n",
      "['sdf', 1, 't', -4, 'thanh']\n"
     ]
    }
   ],
   "source": [
    "mylist_1 = [\"sdf\", 1, 't', -4]\n",
    "print(mylist_1)\n",
    "mylist_2 = [\"sdfđ\", 13, 'c', -43]\n",
    "print(mylist_2)\n",
    "print(mylist_1+mylist_2)\n",
    "mylist_1.append(\"thanh\")\n",
    "print(mylist_1)"
   ]
  },
  {
   "cell_type": "code",
   "execution_count": 35,
   "metadata": {},
   "outputs": [
    {
     "name": "stdout",
     "output_type": "stream",
     "text": [
      "['a', 'b', 'd', 'e', 'f']\n",
      "[-19999, 'a', 'b', 'd', 'e', 'f']\n",
      "[1, 3, 23, 78, 100, 999]\n"
     ]
    },
    {
     "data": {
      "text/plain": [
       "[999, 100, 78, 23, 3, 1]"
      ]
     },
     "execution_count": 35,
     "metadata": {},
     "output_type": "execute_result"
    }
   ],
   "source": [
    "mylist=[\"a\", \"b\"]\n",
    "mylist.extend([\"d\", \"e\", \"f\"])\n",
    "print(mylist)\n",
    "mylist.insert(0, -19999)\n",
    "print(mylist)\n",
    "numbers = [1, 3 , 999, 78, 23, 100]\n",
    "numbers.sort()\n",
    "print(numbers)\n",
    "sorted(numbers, reverse=True)"
   ]
  },
  {
   "cell_type": "markdown",
   "metadata": {},
   "source": []
  }
 ],
 "metadata": {
  "kernelspec": {
   "display_name": "Python 3",
   "language": "python",
   "name": "python3"
  },
  "language_info": {
   "codemirror_mode": {
    "name": "ipython",
    "version": 3
   },
   "file_extension": ".py",
   "mimetype": "text/x-python",
   "name": "python",
   "nbconvert_exporter": "python",
   "pygments_lexer": "ipython3",
   "version": "3.12.0"
  }
 },
 "nbformat": 4,
 "nbformat_minor": 2
}
