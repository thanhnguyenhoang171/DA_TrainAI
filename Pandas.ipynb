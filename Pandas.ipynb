{
 "cells": [
  {
   "cell_type": "code",
   "execution_count": 2,
   "id": "3e44cee3",
   "metadata": {},
   "outputs": [],
   "source": [
    "import pandas as pd\n",
    "df = pd.read_csv('04_gap-merged.tsv', sep ='\\t')"
   ]
  },
  {
   "cell_type": "markdown",
   "id": "e5413b06",
   "metadata": {},
   "source": [
    "Show the first 5 lines of tsv file.\n"
   ]
  },
  {
   "cell_type": "code",
   "execution_count": 5,
   "id": "21cab38c",
   "metadata": {},
   "outputs": [
    {
     "name": "stdout",
     "output_type": "stream",
     "text": [
      "       country continent  year  lifeExp       pop   gdpPercap\n",
      "0  Afghanistan      Asia  1952   28.801   8425333  779.445314\n",
      "1  Afghanistan      Asia  1957   30.332   9240934  820.853030\n",
      "2  Afghanistan      Asia  1962   31.997  10267083  853.100710\n",
      "3  Afghanistan      Asia  1967   34.020  11537966  836.197138\n",
      "4  Afghanistan      Asia  1972   36.088  13079460  739.981106\n"
     ]
    }
   ],
   "source": [
    "print(df.head(5))"
   ]
  },
  {
   "cell_type": "markdown",
   "id": "8dd9f1fc",
   "metadata": {},
   "source": [
    "Find the number of row and column of this file.\n"
   ]
  },
  {
   "cell_type": "code",
   "execution_count": 9,
   "id": "f6bcbb64",
   "metadata": {},
   "outputs": [
    {
     "name": "stdout",
     "output_type": "stream",
     "text": [
      "Number of rows:  3312\n",
      "Number of columns:  6\n"
     ]
    }
   ],
   "source": [
    "num_rows, num_columns= df.shape\n",
    "print (\"Number of rows: \", num_rows)\n",
    "print (\"Number of columns: \", num_columns)"
   ]
  },
  {
   "cell_type": "markdown",
   "id": "384b22ad",
   "metadata": {},
   "source": [
    "Print the name of the columns.\n"
   ]
  },
  {
   "cell_type": "code",
   "execution_count": 14,
   "id": "c8195b9e",
   "metadata": {},
   "outputs": [
    {
     "name": "stdout",
     "output_type": "stream",
     "text": [
      "Index(['country', 'continent', 'year', 'lifeExp', 'pop', 'gdpPercap'], dtype='object')\n"
     ]
    }
   ],
   "source": [
    "print(df.columns)\n"
   ]
  },
  {
   "cell_type": "markdown",
   "id": "c2f9408a",
   "metadata": {},
   "source": [
    "What is the type of the column names? "
   ]
  },
  {
   "cell_type": "code",
   "execution_count": 16,
   "id": "120b297f",
   "metadata": {},
   "outputs": [
    {
     "name": "stdout",
     "output_type": "stream",
     "text": [
      "country       object\n",
      "continent     object\n",
      "year           int64\n",
      "lifeExp      float64\n",
      "pop            int64\n",
      "gdpPercap    float64\n",
      "dtype: object\n"
     ]
    }
   ],
   "source": [
    "print(df.dtypes)"
   ]
  },
  {
   "cell_type": "markdown",
   "id": "bd246ba0",
   "metadata": {},
   "source": [
    "Get the country column and save it to its own variable. Show the first 5 observations.\n"
   ]
  },
  {
   "cell_type": "code",
   "execution_count": 26,
   "id": "3e036621",
   "metadata": {},
   "outputs": [
    {
     "name": "stdout",
     "output_type": "stream",
     "text": [
      "0    Afghanistan\n",
      "1    Afghanistan\n",
      "2    Afghanistan\n",
      "3    Afghanistan\n",
      "4    Afghanistan\n",
      "Name: country, dtype: object\n"
     ]
    }
   ],
   "source": [
    "country_column = df['country']\n",
    "print(country_column.head(5))"
   ]
  },
  {
   "cell_type": "markdown",
   "id": "3c72c732",
   "metadata": {},
   "source": [
    "Show the last 5 observations of this column.\n"
   ]
  },
  {
   "cell_type": "code",
   "execution_count": 27,
   "id": "3caebe70",
   "metadata": {},
   "outputs": [
    {
     "name": "stdout",
     "output_type": "stream",
     "text": [
      "3307    Zimbabwe\n",
      "3308    Zimbabwe\n",
      "3309    Zimbabwe\n",
      "3310    Zimbabwe\n",
      "3311    Zimbabwe\n",
      "Name: country, dtype: object\n"
     ]
    }
   ],
   "source": [
    "print(country_column.tail(5))"
   ]
  },
  {
   "cell_type": "markdown",
   "id": "05a41e86",
   "metadata": {},
   "source": [
    "Look at country, continent and year. Show the first 5 observations of these columns, and the last 5 observations."
   ]
  },
  {
   "cell_type": "code",
   "execution_count": 29,
   "id": "348c81cc",
   "metadata": {},
   "outputs": [
    {
     "name": "stdout",
     "output_type": "stream",
     "text": [
      "       country continent  year\n",
      "0  Afghanistan      Asia  1952\n",
      "1  Afghanistan      Asia  1957\n",
      "2  Afghanistan      Asia  1962\n",
      "3  Afghanistan      Asia  1967\n",
      "4  Afghanistan      Asia  1972\n",
      "       country continent  year\n",
      "3307  Zimbabwe    Africa  1987\n",
      "3308  Zimbabwe    Africa  1992\n",
      "3309  Zimbabwe    Africa  1997\n",
      "3310  Zimbabwe    Africa  2002\n",
      "3311  Zimbabwe    Africa  2007\n"
     ]
    }
   ],
   "source": [
    "selected_columns = df[['country', 'continent', 'year']]\n",
    "print (selected_columns.head(5))\n",
    "print (selected_columns.tail(5))"
   ]
  },
  {
   "cell_type": "markdown",
   "id": "a104653e",
   "metadata": {},
   "source": [
    "How to get the first row of tsv file? How to get the 100th row.\n"
   ]
  },
  {
   "cell_type": "code",
   "execution_count": 32,
   "id": "0129f269",
   "metadata": {},
   "outputs": [
    {
     "name": "stdout",
     "output_type": "stream",
     "text": [
      "The first row of df: \n",
      " country      Afghanistan\n",
      "continent           Asia\n",
      "year                1952\n",
      "lifeExp           28.801\n",
      "pop              8425333\n",
      "gdpPercap     779.445314\n",
      "Name: 0, dtype: object\n",
      "The 100th row of df: \n",
      " country        Australia\n",
      "continent            NaN\n",
      "year                1977\n",
      "lifeExp            73.49\n",
      "pop             14074100\n",
      "gdpPercap    18334.19751\n",
      "Name: 99, dtype: object\n"
     ]
    }
   ],
   "source": [
    "print(\"The first row of df: \\n\", df.iloc[0])\n",
    "print(\"The 100th row of df: \\n\", df.iloc[99])"
   ]
  },
  {
   "cell_type": "markdown",
   "id": "43ebd739",
   "metadata": {},
   "source": [
    "Try to get the first column by using a integer index. And get the first and last column by passing the integer index. "
   ]
  },
  {
   "cell_type": "code",
   "execution_count": 33,
   "id": "586d5ff3",
   "metadata": {},
   "outputs": [
    {
     "name": "stdout",
     "output_type": "stream",
     "text": [
      "First column:\n",
      "0       Afghanistan\n",
      "1       Afghanistan\n",
      "2       Afghanistan\n",
      "3       Afghanistan\n",
      "4       Afghanistan\n",
      "           ...     \n",
      "3307       Zimbabwe\n",
      "3308       Zimbabwe\n",
      "3309       Zimbabwe\n",
      "3310       Zimbabwe\n",
      "3311       Zimbabwe\n",
      "Name: country, Length: 3312, dtype: object\n",
      "\n",
      "First and last columns:\n",
      "          country   gdpPercap\n",
      "0     Afghanistan  779.445314\n",
      "1     Afghanistan  820.853030\n",
      "2     Afghanistan  853.100710\n",
      "3     Afghanistan  836.197138\n",
      "4     Afghanistan  739.981106\n",
      "...           ...         ...\n",
      "3307     Zimbabwe  706.157306\n",
      "3308     Zimbabwe  693.420786\n",
      "3309     Zimbabwe  792.449960\n",
      "3310     Zimbabwe  672.038623\n",
      "3311     Zimbabwe  469.709298\n",
      "\n",
      "[3312 rows x 2 columns]\n"
     ]
    }
   ],
   "source": [
    "first_column = df.iloc[:, 0]\n",
    "first_and_last_columns = df.iloc[:, [0, -1]]\n",
    "print(\"First column:\")\n",
    "print(first_column)\n",
    "print(\"\\nFirst and last columns:\")\n",
    "print(first_and_last_columns)"
   ]
  },
  {
   "cell_type": "markdown",
   "id": "4b8a4b21",
   "metadata": {},
   "source": [
    "How to get the last row with .loc? Try with index -1? Correct?\n"
   ]
  },
  {
   "cell_type": "code",
   "execution_count": 38,
   "id": "0194fda8",
   "metadata": {},
   "outputs": [
    {
     "ename": "KeyError",
     "evalue": "-1",
     "output_type": "error",
     "traceback": [
      "\u001b[1;31m---------------------------------------------------------------------------\u001b[0m",
      "\u001b[1;31mValueError\u001b[0m                                Traceback (most recent call last)",
      "File \u001b[1;32mD:\\ProgramData\\anaconda3\\Lib\\site-packages\\pandas\\core\\indexes\\range.py:345\u001b[0m, in \u001b[0;36mRangeIndex.get_loc\u001b[1;34m(self, key)\u001b[0m\n\u001b[0;32m    344\u001b[0m \u001b[38;5;28;01mtry\u001b[39;00m:\n\u001b[1;32m--> 345\u001b[0m     \u001b[38;5;28;01mreturn\u001b[39;00m \u001b[38;5;28mself\u001b[39m\u001b[38;5;241m.\u001b[39m_range\u001b[38;5;241m.\u001b[39mindex(new_key)\n\u001b[0;32m    346\u001b[0m \u001b[38;5;28;01mexcept\u001b[39;00m \u001b[38;5;167;01mValueError\u001b[39;00m \u001b[38;5;28;01mas\u001b[39;00m err:\n",
      "\u001b[1;31mValueError\u001b[0m: -1 is not in range",
      "\nThe above exception was the direct cause of the following exception:\n",
      "\u001b[1;31mKeyError\u001b[0m                                  Traceback (most recent call last)",
      "Cell \u001b[1;32mIn[38], line 1\u001b[0m\n\u001b[1;32m----> 1\u001b[0m last_row \u001b[38;5;241m=\u001b[39m df\u001b[38;5;241m.\u001b[39mloc[\u001b[38;5;241m-\u001b[39m\u001b[38;5;241m1\u001b[39m]\n\u001b[0;32m      3\u001b[0m \u001b[38;5;66;03m# Display the last row\u001b[39;00m\n\u001b[0;32m      4\u001b[0m \u001b[38;5;28mprint\u001b[39m(\u001b[38;5;124m\"\u001b[39m\u001b[38;5;124mLast row:\u001b[39m\u001b[38;5;124m\"\u001b[39m)\n",
      "File \u001b[1;32mD:\\ProgramData\\anaconda3\\Lib\\site-packages\\pandas\\core\\indexing.py:1103\u001b[0m, in \u001b[0;36m_LocationIndexer.__getitem__\u001b[1;34m(self, key)\u001b[0m\n\u001b[0;32m   1100\u001b[0m axis \u001b[38;5;241m=\u001b[39m \u001b[38;5;28mself\u001b[39m\u001b[38;5;241m.\u001b[39maxis \u001b[38;5;129;01mor\u001b[39;00m \u001b[38;5;241m0\u001b[39m\n\u001b[0;32m   1102\u001b[0m maybe_callable \u001b[38;5;241m=\u001b[39m com\u001b[38;5;241m.\u001b[39mapply_if_callable(key, \u001b[38;5;28mself\u001b[39m\u001b[38;5;241m.\u001b[39mobj)\n\u001b[1;32m-> 1103\u001b[0m \u001b[38;5;28;01mreturn\u001b[39;00m \u001b[38;5;28mself\u001b[39m\u001b[38;5;241m.\u001b[39m_getitem_axis(maybe_callable, axis\u001b[38;5;241m=\u001b[39maxis)\n",
      "File \u001b[1;32mD:\\ProgramData\\anaconda3\\Lib\\site-packages\\pandas\\core\\indexing.py:1343\u001b[0m, in \u001b[0;36m_LocIndexer._getitem_axis\u001b[1;34m(self, key, axis)\u001b[0m\n\u001b[0;32m   1341\u001b[0m \u001b[38;5;66;03m# fall thru to straight lookup\u001b[39;00m\n\u001b[0;32m   1342\u001b[0m \u001b[38;5;28mself\u001b[39m\u001b[38;5;241m.\u001b[39m_validate_key(key, axis)\n\u001b[1;32m-> 1343\u001b[0m \u001b[38;5;28;01mreturn\u001b[39;00m \u001b[38;5;28mself\u001b[39m\u001b[38;5;241m.\u001b[39m_get_label(key, axis\u001b[38;5;241m=\u001b[39maxis)\n",
      "File \u001b[1;32mD:\\ProgramData\\anaconda3\\Lib\\site-packages\\pandas\\core\\indexing.py:1293\u001b[0m, in \u001b[0;36m_LocIndexer._get_label\u001b[1;34m(self, label, axis)\u001b[0m\n\u001b[0;32m   1291\u001b[0m \u001b[38;5;28;01mdef\u001b[39;00m \u001b[38;5;21m_get_label\u001b[39m(\u001b[38;5;28mself\u001b[39m, label, axis: AxisInt):\n\u001b[0;32m   1292\u001b[0m     \u001b[38;5;66;03m# GH#5567 this will fail if the label is not present in the axis.\u001b[39;00m\n\u001b[1;32m-> 1293\u001b[0m     \u001b[38;5;28;01mreturn\u001b[39;00m \u001b[38;5;28mself\u001b[39m\u001b[38;5;241m.\u001b[39mobj\u001b[38;5;241m.\u001b[39mxs(label, axis\u001b[38;5;241m=\u001b[39maxis)\n",
      "File \u001b[1;32mD:\\ProgramData\\anaconda3\\Lib\\site-packages\\pandas\\core\\generic.py:4095\u001b[0m, in \u001b[0;36mNDFrame.xs\u001b[1;34m(self, key, axis, level, drop_level)\u001b[0m\n\u001b[0;32m   4093\u001b[0m             new_index \u001b[38;5;241m=\u001b[39m index[loc]\n\u001b[0;32m   4094\u001b[0m \u001b[38;5;28;01melse\u001b[39;00m:\n\u001b[1;32m-> 4095\u001b[0m     loc \u001b[38;5;241m=\u001b[39m index\u001b[38;5;241m.\u001b[39mget_loc(key)\n\u001b[0;32m   4097\u001b[0m     \u001b[38;5;28;01mif\u001b[39;00m \u001b[38;5;28misinstance\u001b[39m(loc, np\u001b[38;5;241m.\u001b[39mndarray):\n\u001b[0;32m   4098\u001b[0m         \u001b[38;5;28;01mif\u001b[39;00m loc\u001b[38;5;241m.\u001b[39mdtype \u001b[38;5;241m==\u001b[39m np\u001b[38;5;241m.\u001b[39mbool_:\n",
      "File \u001b[1;32mD:\\ProgramData\\anaconda3\\Lib\\site-packages\\pandas\\core\\indexes\\range.py:347\u001b[0m, in \u001b[0;36mRangeIndex.get_loc\u001b[1;34m(self, key)\u001b[0m\n\u001b[0;32m    345\u001b[0m         \u001b[38;5;28;01mreturn\u001b[39;00m \u001b[38;5;28mself\u001b[39m\u001b[38;5;241m.\u001b[39m_range\u001b[38;5;241m.\u001b[39mindex(new_key)\n\u001b[0;32m    346\u001b[0m     \u001b[38;5;28;01mexcept\u001b[39;00m \u001b[38;5;167;01mValueError\u001b[39;00m \u001b[38;5;28;01mas\u001b[39;00m err:\n\u001b[1;32m--> 347\u001b[0m         \u001b[38;5;28;01mraise\u001b[39;00m \u001b[38;5;167;01mKeyError\u001b[39;00m(key) \u001b[38;5;28;01mfrom\u001b[39;00m \u001b[38;5;21;01merr\u001b[39;00m\n\u001b[0;32m    348\u001b[0m \u001b[38;5;28;01mif\u001b[39;00m \u001b[38;5;28misinstance\u001b[39m(key, Hashable):\n\u001b[0;32m    349\u001b[0m     \u001b[38;5;28;01mraise\u001b[39;00m \u001b[38;5;167;01mKeyError\u001b[39;00m(key)\n",
      "\u001b[1;31mKeyError\u001b[0m: -1"
     ]
    }
   ],
   "source": [
    "last_row = df.loc[-1]\n",
    "\n",
    "# Display the last row\n",
    "print(\"Last row:\")\n",
    "print(last_row)"
   ]
  },
  {
   "cell_type": "markdown",
   "id": "17d82525",
   "metadata": {},
   "source": [
    "How to select the first, 100th, 1000th rows by two methods?"
   ]
  },
  {
   "cell_type": "code",
   "execution_count": 8,
   "id": "4ad4af40",
   "metadata": {},
   "outputs": [
    {
     "name": "stdout",
     "output_type": "stream",
     "text": [
      "country      Afghanistan\n",
      "continent           Asia\n",
      "year                1952\n",
      "lifeExp           28.801\n",
      "pop              8425333\n",
      "gdpPercap     779.445314\n",
      "Name: 0, dtype: object\n",
      "country        Australia\n",
      "continent            NaN\n",
      "year                1977\n",
      "lifeExp            73.49\n",
      "pop             14074100\n",
      "gdpPercap    18334.19751\n",
      "Name: 99, dtype: object\n",
      "country         Finland\n",
      "continent        Europe\n",
      "year               1964\n",
      "lifeExp           69.37\n",
      "pop             4548544\n",
      "gdpPercap    10042.2193\n",
      "Name: 999, dtype: object\n",
      "-----------------------------------------\n",
      "country      Afghanistan\n",
      "continent           Asia\n",
      "year                1952\n",
      "lifeExp           28.801\n",
      "pop              8425333\n",
      "gdpPercap     779.445314\n",
      "Name: 0, dtype: object\n",
      "country        Australia\n",
      "continent            NaN\n",
      "year                1977\n",
      "lifeExp            73.49\n",
      "pop             14074100\n",
      "gdpPercap    18334.19751\n",
      "Name: 99, dtype: object\n",
      "country         Finland\n",
      "continent        Europe\n",
      "year               1964\n",
      "lifeExp           69.37\n",
      "pop             4548544\n",
      "gdpPercap    10042.2193\n",
      "Name: 999, dtype: object\n"
     ]
    }
   ],
   "source": [
    "# Method 1: Using .iloc\n",
    "first_row_iloc = df.iloc[0]\n",
    "hundredth_row_iloc = df.iloc[99]\n",
    "thousandth_row_iloc = df.iloc[999]\n",
    "print (first_row_iloc)\n",
    "print(hundredth_row_iloc)\n",
    "print(thousandth_row_iloc)\n",
    "print ('-----------------------------------------')\n",
    "# Method 2: Using .loc\n",
    "first_row_loc = df.loc[df.index[0]]\n",
    "hundredth_row_loc = df.loc[df.index[99]]\n",
    "thousandth_row_loc = df.loc[df.index[999]]\n",
    "print (first_row_loc)\n",
    "print(hundredth_row_loc)\n",
    "print(thousandth_row_loc)"
   ]
  },
  {
   "cell_type": "markdown",
   "id": "4cb9140e",
   "metadata": {},
   "source": [
    "Get the 43rd country in our data using .loc, .iloc?\n"
   ]
  },
  {
   "cell_type": "code",
   "execution_count": 14,
   "id": "d4a350ff",
   "metadata": {},
   "outputs": [
    {
     "name": "stdout",
     "output_type": "stream",
     "text": [
      "country           Angola\n",
      "continent         Africa\n",
      "year                1982\n",
      "lifeExp           39.942\n",
      "pop              7016384\n",
      "gdpPercap    2756.953672\n",
      "Name: 42, dtype: object\n",
      "country           Angola\n",
      "continent         Africa\n",
      "year                1982\n",
      "lifeExp           39.942\n",
      "pop              7016384\n",
      "gdpPercap    2756.953672\n",
      "Name: 42, dtype: object\n"
     ]
    }
   ],
   "source": [
    "selected_item_43rd_country_iloc = df.iloc[42]\n",
    "selected_item_43rd_country_loc = df.loc[df.index[42]]\n",
    "print (selected_item_43rd_country_iloc)\n",
    "print (selected_item_43rd_country_loc)"
   ]
  },
  {
   "cell_type": "markdown",
   "id": "7450c02c",
   "metadata": {},
   "source": [
    "How to get the first, 100th, 1000th rows from the first, 4th and 6th columns?"
   ]
  },
  {
   "cell_type": "code",
   "execution_count": 17,
   "id": "5ced6113",
   "metadata": {},
   "outputs": [
    {
     "name": "stdout",
     "output_type": "stream",
     "text": [
      "         country  lifeExp     gdpPercap\n",
      "0    Afghanistan   28.801    779.445314\n",
      "99     Australia   73.490  18334.197510\n",
      "999      Finland   69.370  10042.219300\n",
      "         country  lifeExp     gdpPercap\n",
      "0    Afghanistan   28.801    779.445314\n",
      "99     Australia   73.490  18334.197510\n",
      "999      Finland   69.370  10042.219300\n"
     ]
    }
   ],
   "source": [
    "selected_row_col_iloc = df.iloc[[0, 99, 999], [0,3,5]]\n",
    "print (selected_row_col_iloc)\n",
    "\n",
    "selected_row_col_loc = df.loc[[0, 99, 999], ['country','lifeExp','gdpPercap']] # chỉ có thể dùng được khi định nghĩa tên cột\n",
    "print (selected_row_col_loc)"
   ]
  },
  {
   "cell_type": "markdown",
   "id": "8ced122e",
   "metadata": {},
   "source": [
    "Get first 10 rows of our data (tsv file)?"
   ]
  },
  {
   "cell_type": "code",
   "execution_count": 18,
   "id": "6705b7f5",
   "metadata": {},
   "outputs": [
    {
     "name": "stdout",
     "output_type": "stream",
     "text": [
      "       country continent  year  lifeExp       pop   gdpPercap\n",
      "0  Afghanistan      Asia  1952   28.801   8425333  779.445314\n",
      "1  Afghanistan      Asia  1957   30.332   9240934  820.853030\n",
      "2  Afghanistan      Asia  1962   31.997  10267083  853.100710\n",
      "3  Afghanistan      Asia  1967   34.020  11537966  836.197138\n",
      "4  Afghanistan      Asia  1972   36.088  13079460  739.981106\n",
      "5  Afghanistan      Asia  1977   38.438  14880372  786.113360\n",
      "6  Afghanistan      Asia  1982   39.854  12881816  978.011439\n",
      "7  Afghanistan      Asia  1987   40.822  13867957  852.395945\n",
      "8  Afghanistan      Asia  1992   41.674  16317921  649.341395\n",
      "9  Afghanistan      Asia  1997   41.763  22227415  635.341351\n"
     ]
    }
   ],
   "source": [
    "print(df.head(10))"
   ]
  },
  {
   "cell_type": "markdown",
   "id": "f8369eb3",
   "metadata": {},
   "source": [
    "For each year in our data, what was the average life expectation?\n"
   ]
  },
  {
   "cell_type": "code",
   "execution_count": 21,
   "id": "1ab57176",
   "metadata": {
    "scrolled": true
   },
   "outputs": [
    {
     "name": "stdout",
     "output_type": "stream",
     "text": [
      "year\n",
      "1950    62.002568\n",
      "1951    65.904167\n",
      "1952    49.206867\n",
      "1953    66.674563\n",
      "1954    67.459817\n",
      "1955    67.806757\n",
      "1956    67.950637\n",
      "1957    51.614590\n",
      "1958    68.815936\n",
      "1959    68.226579\n",
      "1960    68.470837\n",
      "1961    68.862480\n",
      "1962    54.035234\n",
      "1963    69.595735\n",
      "1964    70.063105\n",
      "1965    70.259881\n",
      "1966    70.447526\n",
      "1967    56.263629\n",
      "1968    70.689081\n",
      "1969    70.653896\n",
      "1970    70.961141\n",
      "1971    71.103976\n",
      "1972    58.474481\n",
      "1973    71.500338\n",
      "1974    71.778504\n",
      "1975    71.939218\n",
      "1976    72.158050\n",
      "1977    60.429090\n",
      "1978    72.717567\n",
      "1979    73.018717\n",
      "1980    73.064524\n",
      "1981    73.337399\n",
      "1982    62.365871\n",
      "1983    73.787778\n",
      "1984    74.100741\n",
      "1985    74.112222\n",
      "1986    74.452222\n",
      "1987    63.984860\n",
      "1988    74.760000\n",
      "1989    74.924444\n",
      "1990    74.283438\n",
      "1991    74.374848\n",
      "1992    65.008443\n",
      "1993    74.324545\n",
      "1994    74.456667\n",
      "1995    74.552727\n",
      "1996    75.029394\n",
      "1997    65.873799\n",
      "1998    75.569697\n",
      "1999    75.703636\n",
      "2000    76.026364\n",
      "2001    76.257879\n",
      "2002    66.835695\n",
      "2003    76.586667\n",
      "2004    76.921562\n",
      "2005    76.718667\n",
      "2006    77.887778\n",
      "2007    67.868557\n",
      "Name: lifeExp, dtype: float64\n"
     ]
    }
   ],
   "source": [
    "average_life_expectation_per_year = df.groupby('year')['lifeExp'].mean()\n",
    "print(average_life_expectation_per_year)"
   ]
  },
  {
   "cell_type": "markdown",
   "id": "7a51b370",
   "metadata": {},
   "source": [
    "Using subsetting method for the solution of 15/?"
   ]
  },
  {
   "cell_type": "code",
   "execution_count": 24,
   "id": "dcd5f32c",
   "metadata": {},
   "outputs": [
    {
     "name": "stdout",
     "output_type": "stream",
     "text": [
      "Average life expectancy in 1952: 49.206867132867124\n",
      "Average life expectancy in 1957: 51.61459\n",
      "Average life expectancy in 1962: 54.03523417218543\n",
      "Average life expectancy in 1967: 56.26362897435898\n",
      "Average life expectancy in 1972: 58.47448142857142\n",
      "Average life expectancy in 1977: 60.429089824561416\n",
      "Average life expectancy in 1982: 62.36587134502924\n",
      "Average life expectancy in 1987: 63.9848596491228\n",
      "Average life expectancy in 1992: 65.00844262295082\n",
      "Average life expectancy in 1997: 65.87379891304347\n",
      "Average life expectancy in 2002: 66.83569518716577\n",
      "Average life expectancy in 2007: 67.86855737704919\n",
      "Average life expectancy in 1950: 62.00256820512819\n",
      "Average life expectancy in 1951: 65.90416666666667\n",
      "Average life expectancy in 1953: 66.67456333333332\n",
      "Average life expectancy in 1954: 67.45981666666665\n",
      "Average life expectancy in 1955: 67.80675666666667\n",
      "Average life expectancy in 1956: 67.95063666666667\n",
      "Average life expectancy in 1958: 68.815936\n",
      "Average life expectancy in 1959: 68.2265792\n",
      "Average life expectancy in 1960: 68.47083692307693\n",
      "Average life expectancy in 1961: 68.86247999999999\n",
      "Average life expectancy in 1963: 69.59573538461538\n",
      "Average life expectancy in 1964: 70.06310461538462\n",
      "Average life expectancy in 1965: 70.25988148148149\n",
      "Average life expectancy in 1966: 70.44752592592593\n",
      "Average life expectancy in 1968: 70.68908148148148\n",
      "Average life expectancy in 1969: 70.6538962962963\n",
      "Average life expectancy in 1970: 70.96114074074075\n",
      "Average life expectancy in 1971: 71.1039762962963\n",
      "Average life expectancy in 1973: 71.5003375\n",
      "Average life expectancy in 1974: 71.77850370370369\n",
      "Average life expectancy in 1975: 71.93921777777777\n",
      "Average life expectancy in 1976: 72.15805037037038\n",
      "Average life expectancy in 1978: 72.7175674074074\n",
      "Average life expectancy in 1979: 73.01871703703704\n",
      "Average life expectancy in 1980: 73.06452444444446\n",
      "Average life expectancy in 1981: 73.3373985185185\n",
      "Average life expectancy in 1983: 73.78777777777779\n",
      "Average life expectancy in 1984: 74.10074074074073\n",
      "Average life expectancy in 1985: 74.11222222222221\n",
      "Average life expectancy in 1986: 74.4522222222222\n",
      "Average life expectancy in 1988: 74.76\n",
      "Average life expectancy in 1989: 74.92444444444443\n",
      "Average life expectancy in 1990: 74.2834375\n",
      "Average life expectancy in 1991: 74.37484848484848\n",
      "Average life expectancy in 1993: 74.32454545454546\n",
      "Average life expectancy in 1994: 74.45666666666668\n",
      "Average life expectancy in 1995: 74.55272727272728\n",
      "Average life expectancy in 1996: 75.02939393939393\n",
      "Average life expectancy in 1998: 75.56969696969696\n",
      "Average life expectancy in 1999: 75.70363636363636\n",
      "Average life expectancy in 2000: 76.02636363636363\n",
      "Average life expectancy in 2001: 76.2578787878788\n",
      "Average life expectancy in 2003: 76.58666666666666\n",
      "Average life expectancy in 2004: 76.9215625\n",
      "Average life expectancy in 2005: 76.71866666666666\n",
      "Average life expectancy in 2006: 77.88777777777779\n"
     ]
    }
   ],
   "source": [
    "unique_years = df['year'].unique()\n",
    "for year in unique_years:\n",
    "    subset_for_year = df[df['year']==year]\n",
    "    average_life_expectancy_for_year = subset_for_year['lifeExp'].mean()\n",
    "    print(f\"Average life expectancy in {year}: {average_life_expectancy_for_year}\")"
   ]
  },
  {
   "cell_type": "markdown",
   "id": "dc872c07",
   "metadata": {},
   "source": [
    "Create a series with index 0 for ‘banana’ and index 1 for ’42’?"
   ]
  },
  {
   "cell_type": "code",
   "execution_count": 25,
   "id": "8d307468",
   "metadata": {},
   "outputs": [
    {
     "name": "stdout",
     "output_type": "stream",
     "text": [
      "0    banana\n",
      "1        42\n",
      "dtype: object\n"
     ]
    }
   ],
   "source": [
    "my_series = pd.Series(['banana', '42'], index = [0,1])\n",
    "print(my_series)"
   ]
  },
  {
   "cell_type": "markdown",
   "id": "adc9e96f",
   "metadata": {},
   "source": [
    "Similar to 17, but change index ‘Person’ for ‘Wes MCKinney’ and index ‘Who’ for ‘Creator of Pandas’?"
   ]
  },
  {
   "cell_type": "code",
   "execution_count": 27,
   "id": "9fe8dfc2",
   "metadata": {},
   "outputs": [
    {
     "name": "stdout",
     "output_type": "stream",
     "text": [
      "Person         Wes MCKinney\n",
      "Who       Creator of Pandas\n",
      "dtype: object\n"
     ]
    }
   ],
   "source": [
    "my_series = pd.Series(['Wes MCKinney', 'Creator of Pandas'], index = ['Person', 'Who'])\n",
    "print(my_series)"
   ]
  },
  {
   "cell_type": "markdown",
   "id": "907a86c3",
   "metadata": {},
   "source": [
    "Create a dictionary for pandas with the data as ‘Occupation’: [’Chemist’, ’Statistician’], ’Born’: [’1920-07-25’, ’1876-06-13’],’Died’: [’1958-04-16’, ’1937-10-16’],’Age’: [37, 61] and the index is ‘Franklin’,’Gosset’ with four columns as indicated."
   ]
  },
  {
   "cell_type": "code",
   "execution_count": 3,
   "id": "d571e159",
   "metadata": {},
   "outputs": [
    {
     "name": "stdout",
     "output_type": "stream",
     "text": [
      "            Occupation        Born        Died  Age\n",
      "Franklin       Chemist  1920-07-25  1958-04-16   37\n",
      "Gosset    Statistician  1876-06-13  1937-10-16   61\n"
     ]
    }
   ],
   "source": [
    "import pandas as pd\n",
    "data = {\n",
    "    'Occupation': ['Chemist', 'Statistician'],\n",
    "    'Born' : ['1920-07-25', '1876-06-13'],\n",
    "    'Died' : ['1958-04-16', '1937-10-16'],\n",
    "    'Age':[37, 61]\n",
    "}\n",
    "index = ['Franklin', 'Gosset']\n",
    "df = pd.DataFrame(data, index = index)\n",
    "print (df)"
   ]
  },
  {
   "cell_type": "code",
   "execution_count": 1,
   "id": "c84d4c6d",
   "metadata": {},
   "outputs": [
    {
     "name": "stdout",
     "output_type": "stream",
     "text": [
      "0      4879\n",
      "1     12104\n",
      "2     12756\n",
      "3      6792\n",
      "4    142984\n",
      "5    120536\n",
      "6     51118\n",
      "7     49528\n",
      "dtype: int64\n"
     ]
    }
   ],
   "source": [
    "import pandas as pd\n",
    "diameters = [4879, 12104, 12756, 6792, 142984, 120536, 51118, 49528]\n",
    "diameters_series  = pd.Series(diameters)\n",
    "print (diameters_series)"
   ]
  },
  {
   "cell_type": "code",
   "execution_count": 2,
   "id": "3598866f",
   "metadata": {},
   "outputs": [
    {
     "ename": "NameError",
     "evalue": "name 'Data_planet' is not defined",
     "output_type": "error",
     "traceback": [
      "\u001b[1;31m---------------------------------------------------------------------------\u001b[0m",
      "\u001b[1;31mNameError\u001b[0m                                 Traceback (most recent call last)",
      "Cell \u001b[1;32mIn[2], line 4\u001b[0m\n\u001b[0;32m      2\u001b[0m Index \u001b[38;5;241m=\u001b[39m [\u001b[38;5;124m\"\u001b[39m\u001b[38;5;124mMercury\u001b[39m\u001b[38;5;124m\"\u001b[39m, \u001b[38;5;124m\"\u001b[39m\u001b[38;5;124mVenus\u001b[39m\u001b[38;5;124m\"\u001b[39m, \u001b[38;5;124m\"\u001b[39m\u001b[38;5;124mEarth\u001b[39m\u001b[38;5;124m\"\u001b[39m, \u001b[38;5;124m\"\u001b[39m\u001b[38;5;124mMars\u001b[39m\u001b[38;5;124m\"\u001b[39m, \u001b[38;5;124m\"\u001b[39m\u001b[38;5;124mJupyter\u001b[39m\u001b[38;5;124m\"\u001b[39m, \u001b[38;5;124m\"\u001b[39m\u001b[38;5;124mSaturn\u001b[39m\u001b[38;5;124m\"\u001b[39m, \u001b[38;5;124m\"\u001b[39m\u001b[38;5;124mUranus\u001b[39m\u001b[38;5;124m\"\u001b[39m, \u001b[38;5;124m\"\u001b[39m\u001b[38;5;124mNeptune\u001b[39m\u001b[38;5;124m\"\u001b[39m]\n\u001b[0;32m      3\u001b[0m data_dia_planet \u001b[38;5;241m=\u001b[39m pd\u001b[38;5;241m.\u001b[39mSeries(diameters, Index)\n\u001b[1;32m----> 4\u001b[0m \u001b[38;5;28mprint\u001b[39m (Data_planet)\n",
      "\u001b[1;31mNameError\u001b[0m: name 'Data_planet' is not defined"
     ]
    }
   ],
   "source": [
    "diameters = [4879, 12104, 12756, 6792, 142984, 120536, 51118, 49528]\n",
    "Index = [\"Mercury\", \"Venus\", \"Earth\", \"Mars\", \"Jupyter\", \"Saturn\", \"Uranus\", \"Neptune\"]\n",
    "data_dia_planet = pd.Series(diameters, Index)\n",
    "print (Data_planet)"
   ]
  },
  {
   "cell_type": "code",
   "execution_count": 3,
   "id": "6d3eea6c",
   "metadata": {},
   "outputs": [
    {
     "data": {
      "text/plain": [
       "12756"
      ]
     },
     "execution_count": 3,
     "metadata": {},
     "output_type": "execute_result"
    }
   ],
   "source": [
    "# print diameter of Earth planet\n",
    "data_dia_planet['Earth']"
   ]
  },
  {
   "cell_type": "code",
   "execution_count": 4,
   "id": "e6786a39",
   "metadata": {},
   "outputs": [
    {
     "data": {
      "text/plain": [
       "Mercury     4879\n",
       "Venus      12104\n",
       "Earth      12756\n",
       "Mars        6792\n",
       "dtype: int64"
      ]
     },
     "execution_count": 4,
     "metadata": {},
     "output_type": "execute_result"
    }
   ],
   "source": [
    "data_dia_planet['Mercury' : 'Mars']"
   ]
  },
  {
   "cell_type": "code",
   "execution_count": 5,
   "id": "509e6dc3",
   "metadata": {},
   "outputs": [
    {
     "data": {
      "text/plain": [
       "Earth       12756\n",
       "Jupyter    142984\n",
       "Neptune     49528\n",
       "dtype: int64"
      ]
     },
     "execution_count": 5,
     "metadata": {},
     "output_type": "execute_result"
    }
   ],
   "source": [
    "data_dia_planet[['Earth', 'Jupyter', 'Neptune']]"
   ]
  },
  {
   "cell_type": "code",
   "execution_count": 6,
   "id": "6512a433",
   "metadata": {},
   "outputs": [
    {
     "name": "stdout",
     "output_type": "stream",
     "text": [
      "Mercury      4879\n",
      "Venus       12104\n",
      "Earth       12756\n",
      "Mars         6792\n",
      "Jupyter    142984\n",
      "Saturn     120536\n",
      "Uranus      51118\n",
      "Neptune     49528\n",
      "Pluto        2370\n",
      "dtype: int64\n"
     ]
    }
   ],
   "source": [
    "data_dia_planet['Pluto'] = 2370\n",
    "data_dia_planet.to_csv('diameters.csv', header = ['Diameter'])\n",
    "print(data_dia_planet)"
   ]
  },
  {
   "cell_type": "code",
   "execution_count": 7,
   "id": "4ad567d2",
   "metadata": {},
   "outputs": [
    {
     "name": "stdout",
     "output_type": "stream",
     "text": [
      "         diameter  avg_temp  gravity\n",
      "Mercury      4879       167      3.7\n",
      "Venus       12104       464      8.9\n",
      "Earth       12756        15      9.8\n",
      "Mars         6792       -65      3.7\n",
      "Jupiter    142984      -110     23.1\n",
      "Saturn     120536      -140      9.0\n",
      "Uranus      51118      -195      8.7\n",
      "Neptune     49528      -200     11.0\n",
      "Pluto        2370      -225      0.7\n"
     ]
    }
   ],
   "source": [
    "import pandas as pd\n",
    "\n",
    "data = {\n",
    "    'diameter': [4879, 12104, 12756, 6792, 142984, 120536, 51118, 49528, 2370],\n",
    "    'avg_temp': [167, 464, 15, -65, -110, -140, -195, -200, -225],\n",
    "    'gravity': [3.7, 8.9, 9.8, 3.7, 23.1, 9.0, 8.7, 11.0, 0.7]\n",
    "}\n",
    "\n",
    "index = ['Mercury', 'Venus', 'Earth', 'Mars', 'Jupiter', 'Saturn', 'Uranus', 'Neptune', 'Pluto']\n",
    "\n",
    "planets = pd.DataFrame(data, index=index)\n",
    "\n",
    "print(planets)\n"
   ]
  },
  {
   "cell_type": "code",
   "execution_count": 8,
   "id": "339142ab",
   "metadata": {},
   "outputs": [
    {
     "data": {
      "text/html": [
       "<div>\n",
       "<style scoped>\n",
       "    .dataframe tbody tr th:only-of-type {\n",
       "        vertical-align: middle;\n",
       "    }\n",
       "\n",
       "    .dataframe tbody tr th {\n",
       "        vertical-align: top;\n",
       "    }\n",
       "\n",
       "    .dataframe thead th {\n",
       "        text-align: right;\n",
       "    }\n",
       "</style>\n",
       "<table border=\"1\" class=\"dataframe\">\n",
       "  <thead>\n",
       "    <tr style=\"text-align: right;\">\n",
       "      <th></th>\n",
       "      <th>diameter</th>\n",
       "      <th>avg_temp</th>\n",
       "      <th>gravity</th>\n",
       "    </tr>\n",
       "  </thead>\n",
       "  <tbody>\n",
       "    <tr>\n",
       "      <th>Mercury</th>\n",
       "      <td>4879</td>\n",
       "      <td>167</td>\n",
       "      <td>3.7</td>\n",
       "    </tr>\n",
       "    <tr>\n",
       "      <th>Venus</th>\n",
       "      <td>12104</td>\n",
       "      <td>464</td>\n",
       "      <td>8.9</td>\n",
       "    </tr>\n",
       "    <tr>\n",
       "      <th>Earth</th>\n",
       "      <td>12756</td>\n",
       "      <td>15</td>\n",
       "      <td>9.8</td>\n",
       "    </tr>\n",
       "  </tbody>\n",
       "</table>\n",
       "</div>"
      ],
      "text/plain": [
       "         diameter  avg_temp  gravity\n",
       "Mercury      4879       167      3.7\n",
       "Venus       12104       464      8.9\n",
       "Earth       12756        15      9.8"
      ]
     },
     "execution_count": 8,
     "metadata": {},
     "output_type": "execute_result"
    }
   ],
   "source": [
    "planets[0:3]"
   ]
  },
  {
   "cell_type": "code",
   "execution_count": 9,
   "id": "807d9ad4",
   "metadata": {},
   "outputs": [
    {
     "data": {
      "text/html": [
       "<div>\n",
       "<style scoped>\n",
       "    .dataframe tbody tr th:only-of-type {\n",
       "        vertical-align: middle;\n",
       "    }\n",
       "\n",
       "    .dataframe tbody tr th {\n",
       "        vertical-align: top;\n",
       "    }\n",
       "\n",
       "    .dataframe thead th {\n",
       "        text-align: right;\n",
       "    }\n",
       "</style>\n",
       "<table border=\"1\" class=\"dataframe\">\n",
       "  <thead>\n",
       "    <tr style=\"text-align: right;\">\n",
       "      <th></th>\n",
       "      <th>diameter</th>\n",
       "      <th>avg_temp</th>\n",
       "      <th>gravity</th>\n",
       "    </tr>\n",
       "  </thead>\n",
       "  <tbody>\n",
       "    <tr>\n",
       "      <th>Neptune</th>\n",
       "      <td>49528</td>\n",
       "      <td>-200</td>\n",
       "      <td>11.0</td>\n",
       "    </tr>\n",
       "    <tr>\n",
       "      <th>Pluto</th>\n",
       "      <td>2370</td>\n",
       "      <td>-225</td>\n",
       "      <td>0.7</td>\n",
       "    </tr>\n",
       "  </tbody>\n",
       "</table>\n",
       "</div>"
      ],
      "text/plain": [
       "         diameter  avg_temp  gravity\n",
       "Neptune     49528      -200     11.0\n",
       "Pluto        2370      -225      0.7"
      ]
     },
     "execution_count": 9,
     "metadata": {},
     "output_type": "execute_result"
    }
   ],
   "source": [
    "planets.iloc[-2:]"
   ]
  },
  {
   "cell_type": "code",
   "execution_count": 10,
   "id": "9311a50a",
   "metadata": {},
   "outputs": [
    {
     "data": {
      "text/plain": [
       "Index(['diameter', 'avg_temp', 'gravity'], dtype='object')"
      ]
     },
     "execution_count": 10,
     "metadata": {},
     "output_type": "execute_result"
    }
   ],
   "source": [
    "planets.columns"
   ]
  },
  {
   "cell_type": "code",
   "execution_count": 11,
   "id": "3a2bdeed",
   "metadata": {},
   "outputs": [
    {
     "data": {
      "text/plain": [
       "Mercury     3.7\n",
       "Venus       8.9\n",
       "Earth       9.8\n",
       "Mars        3.7\n",
       "Jupiter    23.1\n",
       "Saturn      9.0\n",
       "Uranus      8.7\n",
       "Neptune    11.0\n",
       "Pluto       0.7\n",
       "Name: gravity, dtype: float64"
      ]
     },
     "execution_count": 11,
     "metadata": {},
     "output_type": "execute_result"
    }
   ],
   "source": [
    "planets['gravity']"
   ]
  },
  {
   "cell_type": "code",
   "execution_count": 12,
   "id": "bc484919",
   "metadata": {},
   "outputs": [
    {
     "data": {
      "text/html": [
       "<div>\n",
       "<style scoped>\n",
       "    .dataframe tbody tr th:only-of-type {\n",
       "        vertical-align: middle;\n",
       "    }\n",
       "\n",
       "    .dataframe tbody tr th {\n",
       "        vertical-align: top;\n",
       "    }\n",
       "\n",
       "    .dataframe thead th {\n",
       "        text-align: right;\n",
       "    }\n",
       "</style>\n",
       "<table border=\"1\" class=\"dataframe\">\n",
       "  <thead>\n",
       "    <tr style=\"text-align: right;\">\n",
       "      <th></th>\n",
       "      <th>diameter</th>\n",
       "      <th>gravity</th>\n",
       "    </tr>\n",
       "  </thead>\n",
       "  <tbody>\n",
       "    <tr>\n",
       "      <th>Mercury</th>\n",
       "      <td>4879</td>\n",
       "      <td>3.7</td>\n",
       "    </tr>\n",
       "    <tr>\n",
       "      <th>Venus</th>\n",
       "      <td>12104</td>\n",
       "      <td>8.9</td>\n",
       "    </tr>\n",
       "    <tr>\n",
       "      <th>Earth</th>\n",
       "      <td>12756</td>\n",
       "      <td>9.8</td>\n",
       "    </tr>\n",
       "    <tr>\n",
       "      <th>Mars</th>\n",
       "      <td>6792</td>\n",
       "      <td>3.7</td>\n",
       "    </tr>\n",
       "    <tr>\n",
       "      <th>Jupiter</th>\n",
       "      <td>142984</td>\n",
       "      <td>23.1</td>\n",
       "    </tr>\n",
       "    <tr>\n",
       "      <th>Saturn</th>\n",
       "      <td>120536</td>\n",
       "      <td>9.0</td>\n",
       "    </tr>\n",
       "    <tr>\n",
       "      <th>Uranus</th>\n",
       "      <td>51118</td>\n",
       "      <td>8.7</td>\n",
       "    </tr>\n",
       "    <tr>\n",
       "      <th>Neptune</th>\n",
       "      <td>49528</td>\n",
       "      <td>11.0</td>\n",
       "    </tr>\n",
       "    <tr>\n",
       "      <th>Pluto</th>\n",
       "      <td>2370</td>\n",
       "      <td>0.7</td>\n",
       "    </tr>\n",
       "  </tbody>\n",
       "</table>\n",
       "</div>"
      ],
      "text/plain": [
       "         diameter  gravity\n",
       "Mercury      4879      3.7\n",
       "Venus       12104      8.9\n",
       "Earth       12756      9.8\n",
       "Mars         6792      3.7\n",
       "Jupiter    142984     23.1\n",
       "Saturn     120536      9.0\n",
       "Uranus      51118      8.7\n",
       "Neptune     49528     11.0\n",
       "Pluto        2370      0.7"
      ]
     },
     "execution_count": 12,
     "metadata": {},
     "output_type": "execute_result"
    }
   ],
   "source": [
    "planets[['diameter','gravity']]"
   ]
  },
  {
   "cell_type": "code",
   "execution_count": 18,
   "id": "70a7b327",
   "metadata": {},
   "outputs": [
    {
     "data": {
      "text/plain": [
       "3.7"
      ]
     },
     "execution_count": 18,
     "metadata": {},
     "output_type": "execute_result"
    }
   ],
   "source": [
    "planets.gravity.loc['Earth']"
   ]
  },
  {
   "cell_type": "code",
   "execution_count": 19,
   "id": "90bcbcea",
   "metadata": {},
   "outputs": [
    {
     "data": {
      "text/plain": [
       "diameter    12756.0\n",
       "gravity         9.8\n",
       "Name: Earth, dtype: float64"
      ]
     },
     "execution_count": 19,
     "metadata": {},
     "output_type": "execute_result"
    }
   ],
   "source": [
    "planets.loc['Earth', ['diameter', 'gravity']]"
   ]
  },
  {
   "cell_type": "code",
   "execution_count": 20,
   "id": "b0c1f670",
   "metadata": {},
   "outputs": [
    {
     "data": {
      "text/html": [
       "<div>\n",
       "<style scoped>\n",
       "    .dataframe tbody tr th:only-of-type {\n",
       "        vertical-align: middle;\n",
       "    }\n",
       "\n",
       "    .dataframe tbody tr th {\n",
       "        vertical-align: top;\n",
       "    }\n",
       "\n",
       "    .dataframe thead th {\n",
       "        text-align: right;\n",
       "    }\n",
       "</style>\n",
       "<table border=\"1\" class=\"dataframe\">\n",
       "  <thead>\n",
       "    <tr style=\"text-align: right;\">\n",
       "      <th></th>\n",
       "      <th>diameter</th>\n",
       "      <th>gravity</th>\n",
       "    </tr>\n",
       "  </thead>\n",
       "  <tbody>\n",
       "    <tr>\n",
       "      <th>Earth</th>\n",
       "      <td>12756</td>\n",
       "      <td>9.8</td>\n",
       "    </tr>\n",
       "    <tr>\n",
       "      <th>Mars</th>\n",
       "      <td>6792</td>\n",
       "      <td>3.7</td>\n",
       "    </tr>\n",
       "    <tr>\n",
       "      <th>Jupiter</th>\n",
       "      <td>142984</td>\n",
       "      <td>23.1</td>\n",
       "    </tr>\n",
       "    <tr>\n",
       "      <th>Saturn</th>\n",
       "      <td>120536</td>\n",
       "      <td>9.0</td>\n",
       "    </tr>\n",
       "  </tbody>\n",
       "</table>\n",
       "</div>"
      ],
      "text/plain": [
       "         diameter  gravity\n",
       "Earth       12756      9.8\n",
       "Mars         6792      3.7\n",
       "Jupiter    142984     23.1\n",
       "Saturn     120536      9.0"
      ]
     },
     "execution_count": 20,
     "metadata": {},
     "output_type": "execute_result"
    }
   ],
   "source": [
    "planets.loc['Earth' : 'Saturn', ['diameter', 'gravity']]"
   ]
  },
  {
   "cell_type": "code",
   "execution_count": 26,
   "id": "dfb48940",
   "metadata": {},
   "outputs": [
    {
     "data": {
      "text/plain": [
       "Mercury    True\n",
       "Venus      True\n",
       "Earth      True\n",
       "Mars       True\n",
       "Jupiter    True\n",
       "Saturn     True\n",
       "Uranus     True\n",
       "Neptune    True\n",
       "Pluto      True\n",
       "Name: diameter, dtype: bool"
      ]
     },
     "execution_count": 26,
     "metadata": {},
     "output_type": "execute_result"
    }
   ],
   "source": [
    "planets['diameter']>1000"
   ]
  },
  {
   "cell_type": "code",
   "execution_count": 24,
   "id": "80416c90",
   "metadata": {},
   "outputs": [
    {
     "data": {
      "text/html": [
       "<div>\n",
       "<style scoped>\n",
       "    .dataframe tbody tr th:only-of-type {\n",
       "        vertical-align: middle;\n",
       "    }\n",
       "\n",
       "    .dataframe tbody tr th {\n",
       "        vertical-align: top;\n",
       "    }\n",
       "\n",
       "    .dataframe thead th {\n",
       "        text-align: right;\n",
       "    }\n",
       "</style>\n",
       "<table border=\"1\" class=\"dataframe\">\n",
       "  <thead>\n",
       "    <tr style=\"text-align: right;\">\n",
       "      <th></th>\n",
       "      <th>diameter</th>\n",
       "      <th>avg_temp</th>\n",
       "      <th>gravity</th>\n",
       "    </tr>\n",
       "  </thead>\n",
       "  <tbody>\n",
       "    <tr>\n",
       "      <th>Jupiter</th>\n",
       "      <td>142984</td>\n",
       "      <td>-110</td>\n",
       "      <td>23.1</td>\n",
       "    </tr>\n",
       "    <tr>\n",
       "      <th>Saturn</th>\n",
       "      <td>120536</td>\n",
       "      <td>-140</td>\n",
       "      <td>9.0</td>\n",
       "    </tr>\n",
       "  </tbody>\n",
       "</table>\n",
       "</div>"
      ],
      "text/plain": [
       "         diameter  avg_temp  gravity\n",
       "Jupiter    142984      -110     23.1\n",
       "Saturn     120536      -140      9.0"
      ]
     },
     "execution_count": 24,
     "metadata": {},
     "output_type": "execute_result"
    }
   ],
   "source": [
    "planets[planets['diameter']>100000]"
   ]
  },
  {
   "cell_type": "code",
   "execution_count": 27,
   "id": "9cf2bf18",
   "metadata": {},
   "outputs": [
    {
     "data": {
      "text/html": [
       "<div>\n",
       "<style scoped>\n",
       "    .dataframe tbody tr th:only-of-type {\n",
       "        vertical-align: middle;\n",
       "    }\n",
       "\n",
       "    .dataframe tbody tr th {\n",
       "        vertical-align: top;\n",
       "    }\n",
       "\n",
       "    .dataframe thead th {\n",
       "        text-align: right;\n",
       "    }\n",
       "</style>\n",
       "<table border=\"1\" class=\"dataframe\">\n",
       "  <thead>\n",
       "    <tr style=\"text-align: right;\">\n",
       "      <th></th>\n",
       "      <th>diameter</th>\n",
       "      <th>avg_temp</th>\n",
       "      <th>gravity</th>\n",
       "    </tr>\n",
       "  </thead>\n",
       "  <tbody>\n",
       "    <tr>\n",
       "      <th>Venus</th>\n",
       "      <td>12104</td>\n",
       "      <td>464</td>\n",
       "      <td>8.9</td>\n",
       "    </tr>\n",
       "    <tr>\n",
       "      <th>Earth</th>\n",
       "      <td>12756</td>\n",
       "      <td>15</td>\n",
       "      <td>9.8</td>\n",
       "    </tr>\n",
       "  </tbody>\n",
       "</table>\n",
       "</div>"
      ],
      "text/plain": [
       "       diameter  avg_temp  gravity\n",
       "Venus     12104       464      8.9\n",
       "Earth     12756        15      9.8"
      ]
     },
     "execution_count": 27,
     "metadata": {},
     "output_type": "execute_result"
    }
   ],
   "source": [
    "planets[(planets['gravity']>5) & (planets['avg_temp']>0)]"
   ]
  },
  {
   "cell_type": "code",
   "execution_count": 28,
   "id": "275e21a2",
   "metadata": {},
   "outputs": [
    {
     "data": {
      "text/html": [
       "<div>\n",
       "<style scoped>\n",
       "    .dataframe tbody tr th:only-of-type {\n",
       "        vertical-align: middle;\n",
       "    }\n",
       "\n",
       "    .dataframe tbody tr th {\n",
       "        vertical-align: top;\n",
       "    }\n",
       "\n",
       "    .dataframe thead th {\n",
       "        text-align: right;\n",
       "    }\n",
       "</style>\n",
       "<table border=\"1\" class=\"dataframe\">\n",
       "  <thead>\n",
       "    <tr style=\"text-align: right;\">\n",
       "      <th></th>\n",
       "      <th>diameter</th>\n",
       "      <th>avg_temp</th>\n",
       "      <th>gravity</th>\n",
       "    </tr>\n",
       "  </thead>\n",
       "  <tbody>\n",
       "    <tr>\n",
       "      <th>Pluto</th>\n",
       "      <td>2370</td>\n",
       "      <td>-225</td>\n",
       "      <td>0.7</td>\n",
       "    </tr>\n",
       "    <tr>\n",
       "      <th>Mercury</th>\n",
       "      <td>4879</td>\n",
       "      <td>167</td>\n",
       "      <td>3.7</td>\n",
       "    </tr>\n",
       "    <tr>\n",
       "      <th>Mars</th>\n",
       "      <td>6792</td>\n",
       "      <td>-65</td>\n",
       "      <td>3.7</td>\n",
       "    </tr>\n",
       "    <tr>\n",
       "      <th>Venus</th>\n",
       "      <td>12104</td>\n",
       "      <td>464</td>\n",
       "      <td>8.9</td>\n",
       "    </tr>\n",
       "    <tr>\n",
       "      <th>Earth</th>\n",
       "      <td>12756</td>\n",
       "      <td>15</td>\n",
       "      <td>9.8</td>\n",
       "    </tr>\n",
       "    <tr>\n",
       "      <th>Neptune</th>\n",
       "      <td>49528</td>\n",
       "      <td>-200</td>\n",
       "      <td>11.0</td>\n",
       "    </tr>\n",
       "    <tr>\n",
       "      <th>Uranus</th>\n",
       "      <td>51118</td>\n",
       "      <td>-195</td>\n",
       "      <td>8.7</td>\n",
       "    </tr>\n",
       "    <tr>\n",
       "      <th>Saturn</th>\n",
       "      <td>120536</td>\n",
       "      <td>-140</td>\n",
       "      <td>9.0</td>\n",
       "    </tr>\n",
       "    <tr>\n",
       "      <th>Jupiter</th>\n",
       "      <td>142984</td>\n",
       "      <td>-110</td>\n",
       "      <td>23.1</td>\n",
       "    </tr>\n",
       "  </tbody>\n",
       "</table>\n",
       "</div>"
      ],
      "text/plain": [
       "         diameter  avg_temp  gravity\n",
       "Pluto        2370      -225      0.7\n",
       "Mercury      4879       167      3.7\n",
       "Mars         6792       -65      3.7\n",
       "Venus       12104       464      8.9\n",
       "Earth       12756        15      9.8\n",
       "Neptune     49528      -200     11.0\n",
       "Uranus      51118      -195      8.7\n",
       "Saturn     120536      -140      9.0\n",
       "Jupiter    142984      -110     23.1"
      ]
     },
     "execution_count": 28,
     "metadata": {},
     "output_type": "execute_result"
    }
   ],
   "source": [
    "planets.sort_values('diameter')"
   ]
  },
  {
   "cell_type": "code",
   "execution_count": 31,
   "id": "e5571284",
   "metadata": {},
   "outputs": [
    {
     "data": {
      "text/html": [
       "<div>\n",
       "<style scoped>\n",
       "    .dataframe tbody tr th:only-of-type {\n",
       "        vertical-align: middle;\n",
       "    }\n",
       "\n",
       "    .dataframe tbody tr th {\n",
       "        vertical-align: top;\n",
       "    }\n",
       "\n",
       "    .dataframe thead th {\n",
       "        text-align: right;\n",
       "    }\n",
       "</style>\n",
       "<table border=\"1\" class=\"dataframe\">\n",
       "  <thead>\n",
       "    <tr style=\"text-align: right;\">\n",
       "      <th></th>\n",
       "      <th>diameter</th>\n",
       "      <th>avg_temp</th>\n",
       "      <th>gravity</th>\n",
       "    </tr>\n",
       "  </thead>\n",
       "  <tbody>\n",
       "    <tr>\n",
       "      <th>Jupiter</th>\n",
       "      <td>142984</td>\n",
       "      <td>-110</td>\n",
       "      <td>23.1</td>\n",
       "    </tr>\n",
       "    <tr>\n",
       "      <th>Neptune</th>\n",
       "      <td>49528</td>\n",
       "      <td>-200</td>\n",
       "      <td>11.0</td>\n",
       "    </tr>\n",
       "    <tr>\n",
       "      <th>Earth</th>\n",
       "      <td>12756</td>\n",
       "      <td>15</td>\n",
       "      <td>9.8</td>\n",
       "    </tr>\n",
       "    <tr>\n",
       "      <th>Saturn</th>\n",
       "      <td>120536</td>\n",
       "      <td>-140</td>\n",
       "      <td>9.0</td>\n",
       "    </tr>\n",
       "    <tr>\n",
       "      <th>Venus</th>\n",
       "      <td>12104</td>\n",
       "      <td>464</td>\n",
       "      <td>8.9</td>\n",
       "    </tr>\n",
       "    <tr>\n",
       "      <th>Uranus</th>\n",
       "      <td>51118</td>\n",
       "      <td>-195</td>\n",
       "      <td>8.7</td>\n",
       "    </tr>\n",
       "    <tr>\n",
       "      <th>Mercury</th>\n",
       "      <td>4879</td>\n",
       "      <td>167</td>\n",
       "      <td>3.7</td>\n",
       "    </tr>\n",
       "    <tr>\n",
       "      <th>Mars</th>\n",
       "      <td>6792</td>\n",
       "      <td>-65</td>\n",
       "      <td>3.7</td>\n",
       "    </tr>\n",
       "    <tr>\n",
       "      <th>Pluto</th>\n",
       "      <td>2370</td>\n",
       "      <td>-225</td>\n",
       "      <td>0.7</td>\n",
       "    </tr>\n",
       "  </tbody>\n",
       "</table>\n",
       "</div>"
      ],
      "text/plain": [
       "         diameter  avg_temp  gravity\n",
       "Jupiter    142984      -110     23.1\n",
       "Neptune     49528      -200     11.0\n",
       "Earth       12756        15      9.8\n",
       "Saturn     120536      -140      9.0\n",
       "Venus       12104       464      8.9\n",
       "Uranus      51118      -195      8.7\n",
       "Mercury      4879       167      3.7\n",
       "Mars         6792       -65      3.7\n",
       "Pluto        2370      -225      0.7"
      ]
     },
     "execution_count": 31,
     "metadata": {},
     "output_type": "execute_result"
    }
   ],
   "source": [
    "planets.sort_values('gravity', ascending=False)"
   ]
  },
  {
   "cell_type": "code",
   "execution_count": 43,
   "id": "17f73820",
   "metadata": {},
   "outputs": [
    {
     "data": {
      "text/html": [
       "<div>\n",
       "<style scoped>\n",
       "    .dataframe tbody tr th:only-of-type {\n",
       "        vertical-align: middle;\n",
       "    }\n",
       "\n",
       "    .dataframe tbody tr th {\n",
       "        vertical-align: top;\n",
       "    }\n",
       "\n",
       "    .dataframe thead th {\n",
       "        text-align: right;\n",
       "    }\n",
       "</style>\n",
       "<table border=\"1\" class=\"dataframe\">\n",
       "  <thead>\n",
       "    <tr style=\"text-align: right;\">\n",
       "      <th></th>\n",
       "      <th>gravity</th>\n",
       "      <th>avg_temp</th>\n",
       "      <th>diameter</th>\n",
       "    </tr>\n",
       "  </thead>\n",
       "  <tbody>\n",
       "    <tr>\n",
       "      <th>Mercury</th>\n",
       "      <td>3.7</td>\n",
       "      <td>167</td>\n",
       "      <td>4879</td>\n",
       "    </tr>\n",
       "    <tr>\n",
       "      <th>Venus</th>\n",
       "      <td>8.9</td>\n",
       "      <td>464</td>\n",
       "      <td>12104</td>\n",
       "    </tr>\n",
       "    <tr>\n",
       "      <th>Earth</th>\n",
       "      <td>9.8</td>\n",
       "      <td>15</td>\n",
       "      <td>12756</td>\n",
       "    </tr>\n",
       "    <tr>\n",
       "      <th>Mars</th>\n",
       "      <td>3.7</td>\n",
       "      <td>-65</td>\n",
       "      <td>6792</td>\n",
       "    </tr>\n",
       "    <tr>\n",
       "      <th>Jupiter</th>\n",
       "      <td>23.1</td>\n",
       "      <td>-110</td>\n",
       "      <td>142984</td>\n",
       "    </tr>\n",
       "    <tr>\n",
       "      <th>Saturn</th>\n",
       "      <td>9.0</td>\n",
       "      <td>-140</td>\n",
       "      <td>120536</td>\n",
       "    </tr>\n",
       "    <tr>\n",
       "      <th>Uranus</th>\n",
       "      <td>8.7</td>\n",
       "      <td>-195</td>\n",
       "      <td>51118</td>\n",
       "    </tr>\n",
       "    <tr>\n",
       "      <th>Neptune</th>\n",
       "      <td>11.0</td>\n",
       "      <td>-200</td>\n",
       "      <td>49528</td>\n",
       "    </tr>\n",
       "    <tr>\n",
       "      <th>Pluto</th>\n",
       "      <td>0.7</td>\n",
       "      <td>-225</td>\n",
       "      <td>2370</td>\n",
       "    </tr>\n",
       "  </tbody>\n",
       "</table>\n",
       "</div>"
      ],
      "text/plain": [
       "         gravity  avg_temp  diameter\n",
       "Mercury      3.7       167      4879\n",
       "Venus        8.9       464     12104\n",
       "Earth        9.8        15     12756\n",
       "Mars         3.7       -65      6792\n",
       "Jupiter     23.1      -110    142984\n",
       "Saturn       9.0      -140    120536\n",
       "Uranus       8.7      -195     51118\n",
       "Neptune     11.0      -200     49528\n",
       "Pluto        0.7      -225      2370"
      ]
     },
     "execution_count": 43,
     "metadata": {},
     "output_type": "execute_result"
    }
   ],
   "source": [
    "planets.sort_values(by = 'Mercury', axis = 1)"
   ]
  },
  {
   "cell_type": "code",
   "execution_count": null,
   "id": "a966f661",
   "metadata": {},
   "outputs": [],
   "source": []
  }
 ],
 "metadata": {
  "kernelspec": {
   "display_name": "Python 3 (ipykernel)",
   "language": "python",
   "name": "python3"
  },
  "language_info": {
   "codemirror_mode": {
    "name": "ipython",
    "version": 3
   },
   "file_extension": ".py",
   "mimetype": "text/x-python",
   "name": "python",
   "nbconvert_exporter": "python",
   "pygments_lexer": "ipython3",
   "version": "3.11.5"
  }
 },
 "nbformat": 4,
 "nbformat_minor": 5
}
