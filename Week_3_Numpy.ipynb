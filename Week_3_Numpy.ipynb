{
 "cells": [
  {
   "cell_type": "code",
   "execution_count": 1,
   "metadata": {},
   "outputs": [
    {
     "data": {
      "text/plain": [
       "5"
      ]
     },
     "execution_count": 1,
     "metadata": {},
     "output_type": "execute_result"
    }
   ],
   "source": [
    "def sumofnumbers(a,b):\n",
    "    return a+b\n",
    "\n",
    "sumofnumbers(2,3)"
   ]
  },
  {
   "cell_type": "code",
   "execution_count": 8,
   "metadata": {},
   "outputs": [
    {
     "name": "stdout",
     "output_type": "stream",
     "text": [
      "Rank of matrix:  2\n",
      "Shape of matrix:  (3, 3)\n"
     ]
    }
   ],
   "source": [
    "import numpy as np\n",
    "M = np.array([[1,2,3],[4,5,6],[7,8,9]])\n",
    "v = np.array([1,2,3])\n",
    "rank_matrix = np.linalg.matrix_rank(M)\n",
    "shape_matrix = np.shape(M)\n",
    "print(\"Rank of matrix: \", rank_matrix)\n",
    "print(\"Shape of matrix: \", shape_matrix)"
   ]
  },
  {
   "cell_type": "code",
   "execution_count": 14,
   "metadata": {},
   "outputs": [
    {
     "name": "stdout",
     "output_type": "stream",
     "text": [
      "[[ 4  5  6]\n",
      " [ 7  8  9]\n",
      " [10 11 12]]\n"
     ]
    }
   ],
   "source": [
    "import numpy as np\n",
    "\n",
    "M = np.array([[1, 2, 3], [4, 5, 6], [7, 8, 9]])\n",
    "M_1 = M+3\n",
    "print(M_1)"
   ]
  },
  {
   "cell_type": "code",
   "execution_count": 26,
   "metadata": {},
   "outputs": [
    {
     "name": "stdout",
     "output_type": "stream",
     "text": [
      "Transpose matrix:\n",
      "  [[1 4 7]\n",
      " [2 5 8]\n",
      " [3 6 9]]\n",
      "Transpose vexter: [1 2 3]\n"
     ]
    }
   ],
   "source": [
    "import numpy as np\n",
    "\n",
    "M = np.array([[1, 2, 3], [4, 5, 6], [7, 8, 9]])\n",
    "v = np.array([1, 2, 3])\n",
    "M_transpose = M.T\n",
    "v_transpose = v.transpose()\n",
    "print(\"Transpose matrix:\\n \",M_transpose)\n",
    "\n",
    "print(\"Transpose vexter:\" , v_transpose)"
   ]
  },
  {
   "cell_type": "code",
   "execution_count": 32,
   "metadata": {},
   "outputs": [
    {
     "name": "stdout",
     "output_type": "stream",
     "text": [
      "Norm of x:  7.280109889280518\n",
      "Norm of y:  1.0\n"
     ]
    }
   ],
   "source": [
    "import math\n",
    "import numpy as np\n",
    "x = (2, 7)\n",
    "# norm = math.sqrt(sum(i**2 for i in x))\n",
    "# print(\"The normalized vector x is: \", norm)\n",
    "\n",
    "\n",
    "# ---------------------------\n",
    "norm_x = np.linalg.norm(x)\n",
    "y = x / norm_x\n",
    "norm_y = np.linalg.norm(y)\n",
    "print(\"Norm of x: \", norm_x)\n",
    "print(\"Norm of y: \", norm_y)"
   ]
  },
  {
   "cell_type": "code",
   "execution_count": 41,
   "metadata": {},
   "outputs": [
    {
     "ename": "ValueError",
     "evalue": "operands could not be broadcast together with shapes (2,) (3,) ",
     "output_type": "error",
     "traceback": [
      "\u001b[1;31m---------------------------------------------------------------------------\u001b[0m",
      "\u001b[1;31mValueError\u001b[0m                                Traceback (most recent call last)",
      "\u001b[1;32md:\\Chanh Resources\\Năm 3 - HK 1\\Trí Tuệ Nhân Tạo\\ThucHanh\\Week_3.ipynb Cell 6\u001b[0m line \u001b[0;36m7\n\u001b[0;32m      <a href='vscode-notebook-cell:/d%3A/Chanh%20Resources/N%C4%83m%203%20-%20HK%201/Tr%C3%AD%20Tu%E1%BB%87%20Nh%C3%A2n%20T%E1%BA%A1o/ThucHanh/Week_3.ipynb#W5sZmlsZQ%3D%3D?line=4'>5</a>\u001b[0m a\u001b[39m+\u001b[39mb\n\u001b[0;32m      <a href='vscode-notebook-cell:/d%3A/Chanh%20Resources/N%C4%83m%203%20-%20HK%201/Tr%C3%AD%20Tu%E1%BB%87%20Nh%C3%A2n%20T%E1%BA%A1o/ThucHanh/Week_3.ipynb#W5sZmlsZQ%3D%3D?line=5'>6</a>\u001b[0m a\u001b[39m-\u001b[39mb\n\u001b[1;32m----> <a href='vscode-notebook-cell:/d%3A/Chanh%20Resources/N%C4%83m%203%20-%20HK%201/Tr%C3%AD%20Tu%E1%BB%87%20Nh%C3%A2n%20T%E1%BA%A1o/ThucHanh/Week_3.ipynb#W5sZmlsZQ%3D%3D?line=6'>7</a>\u001b[0m a\u001b[39m-\u001b[39;49mc\n",
      "\u001b[1;31mValueError\u001b[0m: operands could not be broadcast together with shapes (2,) (3,) "
     ]
    }
   ],
   "source": [
    "import numpy as np\n",
    "a = np.array([10,15])\n",
    "b = np.array([8,2])\n",
    "c = np.array([1,2,3])\n",
    "a+b\n",
    "a-b\n",
    "a-c"
   ]
  },
  {
   "cell_type": "code",
   "execution_count": 42,
   "metadata": {},
   "outputs": [
    {
     "name": "stdout",
     "output_type": "stream",
     "text": [
      "The dot product of a and b is: 110\n"
     ]
    }
   ],
   "source": [
    "a = np.array([10, 15])\n",
    "b = np.array([8, 2])\n",
    "c = np.dot(a, b)\n",
    "print(\"The dot product of a and b is:\", c)"
   ]
  },
  {
   "cell_type": "code",
   "execution_count": 62,
   "metadata": {},
   "outputs": [
    {
     "name": "stdout",
     "output_type": "stream",
     "text": [
      "Rank of matrix A is:  2\n",
      "Shape of matrix A is:  (2, 3)\n",
      "7\n",
      "[[3 6 7]]\n"
     ]
    }
   ],
   "source": [
    "matrix_A = np.array([[2,4,9],[3,6,7]])\n",
    "# a\n",
    "rank_of_matrix = np.linalg.matrix_rank(matrix_A)\n",
    "shape_of_matrix = np.shape(matrix_A)\n",
    "print(\"Rank of matrix A is: \", rank_of_matrix)\n",
    "print(\"Shape of matrix A is: \", shape_of_matrix)\n",
    "# b\n",
    "c = matrix_A[1,2]\n",
    "print(c)\n",
    "# c\n",
    "second_column = matrix_A[1:]\n",
    "print(second_column)"
   ]
  },
  {
   "cell_type": "code",
   "execution_count": 149,
   "metadata": {},
   "outputs": [
    {
     "name": "stdout",
     "output_type": "stream",
     "text": [
      "[[ 9 -1  6]\n",
      " [-6  1  8]\n",
      " [ 0  0 -2]]\n"
     ]
    }
   ],
   "source": [
    "random_matrix = np.random.randint(-10, 10, size = (3,3))\n",
    "# random_matrix = np.random.uniform(-10,10,(3,3))\n",
    "print(random_matrix)"
   ]
  },
  {
   "cell_type": "code",
   "execution_count": 152,
   "metadata": {},
   "outputs": [
    {
     "name": "stdout",
     "output_type": "stream",
     "text": [
      "[[1. 0. 0.]\n",
      " [0. 1. 0.]\n",
      " [0. 0. 1.]]\n"
     ]
    }
   ],
   "source": [
    "identity_matrix = np.identity(3)\n",
    "print(identity_matrix)"
   ]
  },
  {
   "cell_type": "code",
   "execution_count": 168,
   "metadata": {},
   "outputs": [
    {
     "name": "stdout",
     "output_type": "stream",
     "text": [
      "[[6 7 3]\n",
      " [9 2 6]\n",
      " [2 2 9]]\n",
      "Trace of the matrix (using for command):  17\n",
      "Trace of the matrix (using for loops):  17\n"
     ]
    }
   ],
   "source": [
    "random_matrix = np.random.randint(1, 10, size=(3, 3))\n",
    "print(random_matrix)\n",
    "c = np.trace(random_matrix)\n",
    "print(\"Trace of the matrix (using for command): \", c)\n",
    "trace = 0\n",
    "for i in range(3):\n",
    "    trace += random_matrix[i][i]\n",
    "print(\"Trace of the matrix (using for loops): \", trace)"
   ]
  },
  {
   "cell_type": "code",
   "execution_count": 173,
   "metadata": {},
   "outputs": [
    {
     "name": "stdout",
     "output_type": "stream",
     "text": [
      "[[1 0 0]\n",
      " [0 2 0]\n",
      " [0 0 3]]\n"
     ]
    }
   ],
   "source": [
    "values = [1, 2, 3]\n",
    "diag_matrix = np.diag(values)\n",
    "final_matrix = diag_matrix.reshape(3, 3)\n",
    "\n",
    "print(final_matrix)"
   ]
  }
 ],
 "metadata": {
  "kernelspec": {
   "display_name": "Python 3",
   "language": "python",
   "name": "python3"
  },
  "language_info": {
   "codemirror_mode": {
    "name": "ipython",
    "version": 3
   },
   "file_extension": ".py",
   "mimetype": "text/x-python",
   "name": "python",
   "nbconvert_exporter": "python",
   "pygments_lexer": "ipython3",
   "version": "3.12.0"
  }
 },
 "nbformat": 4,
 "nbformat_minor": 2
}
