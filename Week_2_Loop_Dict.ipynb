{
 "cells": [
  {
   "cell_type": "markdown",
   "metadata": {},
   "source": [
    "<h5> 1/ PRINT all characters in \"your name\" by using for loops </h5>"
   ]
  },
  {
   "cell_type": "code",
   "execution_count": 6,
   "metadata": {},
   "outputs": [
    {
     "name": "stdout",
     "output_type": "stream",
     "text": [
      "N\n",
      "g\n",
      "u\n",
      "y\n",
      "ễ\n",
      "n\n",
      " \n",
      "H\n",
      "o\n",
      "à\n",
      "n\n",
      "g\n",
      " \n",
      "T\n",
      "h\n",
      "a\n",
      "n\n",
      "h\n"
     ]
    }
   ],
   "source": [
    "name = \"Nguyễn Hoàng Thanh\"\n",
    "for characters in name:\n",
    "    print(characters)"
   ]
  },
  {
   "cell_type": "markdown",
   "metadata": {},
   "source": [
    "<h5> 2/ Print all odd numbers x such that 1<=x<=10</h5>"
   ]
  },
  {
   "cell_type": "code",
   "execution_count": 17,
   "metadata": {},
   "outputs": [
    {
     "name": "stdout",
     "output_type": "stream",
     "text": [
      "1\n",
      "3\n",
      "5\n",
      "7\n",
      "9\n"
     ]
    }
   ],
   "source": [
    "for number in range(1,10,2):\n",
    "        print(number)"
   ]
  },
  {
   "cell_type": "markdown",
   "metadata": {},
   "source": [
    "<h5> 3/ a) Compute the sum of all numbers in 2/\n",
    "        <br>\n",
    "        b) Compute the sum of all number from 1 to 6\n",
    "        </h5>"
   ]
  },
  {
   "cell_type": "code",
   "execution_count": 33,
   "metadata": {},
   "outputs": [
    {
     "name": "stdout",
     "output_type": "stream",
     "text": [
      "Sum =  25\n"
     ]
    },
    {
     "ename": "TypeError",
     "evalue": "'int' object is not callable",
     "output_type": "error",
     "traceback": [
      "\u001b[1;31m---------------------------------------------------------------------------\u001b[0m",
      "\u001b[1;31mTypeError\u001b[0m                                 Traceback (most recent call last)",
      "\u001b[1;32md:\\Chanh Resources\\Năm 3 - HK 1\\Trí Tuệ Nhân Tạo\\ThucHanh\\Week_2.ipynb Cell 6\u001b[0m line \u001b[0;36m8\n\u001b[0;32m      <a href='vscode-notebook-cell:/d%3A/Chanh%20Resources/N%C4%83m%203%20-%20HK%201/Tr%C3%AD%20Tu%E1%BB%87%20Nh%C3%A2n%20T%E1%BA%A1o/ThucHanh/Week_2.ipynb#X10sZmlsZQ%3D%3D?line=4'>5</a>\u001b[0m \u001b[39mprint\u001b[39m(\u001b[39m'\u001b[39m\u001b[39mSum = \u001b[39m\u001b[39m'\u001b[39m, \u001b[39msum\u001b[39m)\n\u001b[0;32m      <a href='vscode-notebook-cell:/d%3A/Chanh%20Resources/N%C4%83m%203%20-%20HK%201/Tr%C3%AD%20Tu%E1%BB%87%20Nh%C3%A2n%20T%E1%BA%A1o/ThucHanh/Week_2.ipynb#X10sZmlsZQ%3D%3D?line=6'>7</a>\u001b[0m \u001b[39m# b)\u001b[39;00m\n\u001b[1;32m----> <a href='vscode-notebook-cell:/d%3A/Chanh%20Resources/N%C4%83m%203%20-%20HK%201/Tr%C3%AD%20Tu%E1%BB%87%20Nh%C3%A2n%20T%E1%BA%A1o/ThucHanh/Week_2.ipynb#X10sZmlsZQ%3D%3D?line=7'>8</a>\u001b[0m a \u001b[39m=\u001b[39m \u001b[39msum\u001b[39;49m(\u001b[39mrange\u001b[39;49m(\u001b[39m1\u001b[39;49m,\u001b[39m6\u001b[39;49m))\n\u001b[0;32m      <a href='vscode-notebook-cell:/d%3A/Chanh%20Resources/N%C4%83m%203%20-%20HK%201/Tr%C3%AD%20Tu%E1%BB%87%20Nh%C3%A2n%20T%E1%BA%A1o/ThucHanh/Week_2.ipynb#X10sZmlsZQ%3D%3D?line=8'>9</a>\u001b[0m \u001b[39mprint\u001b[39m(a)\n",
      "\u001b[1;31mTypeError\u001b[0m: 'int' object is not callable"
     ]
    }
   ],
   "source": [
    "# a) \n",
    "sum = 0\n",
    "for number in range(1,10,2):\n",
    "    sum +=number\n",
    "print('Sum = ', sum)\n",
    "\n",
    "# b)\n",
    "sum = 0\n",
    "for number in range(1,6):\n",
    "    sum+=number\n",
    "print(\"Sum = \", sum)"
   ]
  },
  {
   "cell_type": "markdown",
   "metadata": {},
   "source": [
    "<h5> 4/ Give mydict={\"a\":1, \"b\":2,\"c\":3,\"d\":4}. <br>\n",
    "a) Print all key in mydict <br>\n",
    "b) Print all values in mydict <br>\n",
    "c) Print all keys and values\n",
    "</h5>\n"
   ]
  },
  {
   "cell_type": "code",
   "execution_count": 26,
   "metadata": {},
   "outputs": [
    {
     "name": "stdout",
     "output_type": "stream",
     "text": [
      "Key: a\n",
      "Key: b\n",
      "Key: c\n",
      "Key: d\n",
      "Value:  1\n",
      "Value:  2\n",
      "Value:  3\n",
      "Value:  4\n",
      "('a', 1)\n",
      "('b', 2)\n",
      "('c', 3)\n",
      "('d', 4)\n"
     ]
    }
   ],
   "source": [
    "mydict={\"a\":1, \"b\":2,\"c\":3,\"d\":4}\n",
    "for key, value in mydict.items():\n",
    "    print(\"Key:\",key)\n",
    "for key, value in mydict.items():\n",
    "    print (\"Value: \", value)\n",
    "for compo in mydict.items():\n",
    "    print(compo)"
   ]
  },
  {
   "cell_type": "markdown",
   "metadata": {},
   "source": [
    "<h5> 5/ Given courses=[131,141,142,212] and names = [\"Maths\", \"Physics\", \"Chem\", \"Bio\"]. Print a sequence of tuples, each of them contains one course and one names </h5>"
   ]
  },
  {
   "cell_type": "code",
   "execution_count": 1,
   "metadata": {},
   "outputs": [
    {
     "name": "stdout",
     "output_type": "stream",
     "text": [
      "[(131, 'Maths'), (141, 'Physics'), (142, 'Chem'), (212, 'Bio')]\n"
     ]
    }
   ],
   "source": [
    "courses=[131,141,142,212]\n",
    "names = [\"Maths\", \"Physics\", \"Chem\", \"Bio\"]\n",
    "print(list(zip(courses,names)))"
   ]
  },
  {
   "cell_type": "markdown",
   "metadata": {},
   "source": [
    "<h5> 6/ Find the number ò consonants in \"jabbawocky\" by two ways <br>\n",
    "a) Directly (i.e without using the command \"continue\") <br>\n",
    "b) Check whether it's charaters are in vowels set and using the command \"continue\"\n",
    "</h5>"
   ]
  },
  {
   "cell_type": "code",
   "execution_count": 2,
   "metadata": {},
   "outputs": [
    {
     "name": "stdout",
     "output_type": "stream",
     "text": [
      "1\n",
      "2\n",
      "3\n",
      "4\n",
      "5\n",
      "6\n",
      "7\n"
     ]
    }
   ],
   "source": [
    "total = 0\n",
    "vowels = 'aeiou'\n",
    "for char in \"jabbawocky\":\n",
    "    if char in vowels:\n",
    "        continue\n",
    "    total +=1\n",
    "    print(total)\n"
   ]
  },
  {
   "cell_type": "code",
   "execution_count": 1,
   "metadata": {},
   "outputs": [
    {
     "name": "stdout",
     "output_type": "stream",
     "text": [
      "[(10, 'Lam'), (23, 'Hoa'), (80, 'Nam')]\n"
     ]
    }
   ],
   "source": [
    "ages = [23, 10, 80]\n",
    "names = [\"Hoa\", \"Lam\", \"Nam\"]\n",
    "age_name_tuples = list(zip(ages, names))\n",
    "sorted_tuples = sorted(age_name_tuples, key=lambda x: x[0])\n",
    "print(sorted_tuples)"
   ]
  },
  {
   "cell_type": "markdown",
   "metadata": {},
   "source": [
    "Câu 9"
   ]
  },
  {
   "cell_type": "code",
   "execution_count": 7,
   "metadata": {},
   "outputs": [
    {
     "name": "stdout",
     "output_type": "stream",
     "text": [
      "An\n",
      "Binh\n",
      "Chau\n",
      "Doanh\n",
      "Mai\n",
      "Huong\n",
      "Ly\n",
      "Nhi\n"
     ]
    }
   ],
   "source": [
    "with open('firstname.txt') as file:\n",
    "    firstname = file.read()\n",
    "    print(firstname)\n",
    "    file.close()"
   ]
  }
 ],
 "metadata": {
  "kernelspec": {
   "display_name": "Python 3",
   "language": "python",
   "name": "python3"
  },
  "language_info": {
   "codemirror_mode": {
    "name": "ipython",
    "version": 3
   },
   "file_extension": ".py",
   "mimetype": "text/x-python",
   "name": "python",
   "nbconvert_exporter": "python",
   "pygments_lexer": "ipython3",
   "version": "3.12.0"
  }
 },
 "nbformat": 4,
 "nbformat_minor": 2
}
